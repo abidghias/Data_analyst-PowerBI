{
 "cells": [
  {
   "cell_type": "code",
   "execution_count": 34,
   "id": "engaged-abortion",
   "metadata": {},
   "outputs": [
    {
     "data": {
      "text/plain": [
       "[6, 7, 8, 9, 1]"
      ]
     },
     "execution_count": 34,
     "metadata": {},
     "output_type": "execute_result"
    }
   ],
   "source": [
    "def next_in_line(x,y):\n",
    "    x1 = list(x)\n",
    "    x2 = x1.pop(0)\n",
    "    x3 = x1.append(y)\n",
    "    \n",
    "    \n",
    "    \n",
    "        #i.pop(0)\n",
    "        #i.append(y)\n",
    "    return x1\n",
    "next_in_line([5,6,7,8,9],1)"
   ]
  },
  {
   "cell_type": "code",
   "execution_count": 141,
   "id": "complex-paraguay",
   "metadata": {},
   "outputs": [
    {
     "name": "stdout",
     "output_type": "stream",
     "text": [
      "65700\n"
     ]
    }
   ],
   "source": [
    "def get_budgets(x):\n",
    "    sum1 = 0\n",
    "    for i in x:\n",
    "        sum1 += i['budget']\n",
    "    print(sum1)\n",
    "    \n",
    "get_budgets ([{ \"name\": \"John\", \"age\": 21, \"budget\": 23000 },\n",
    "{ \"name\": \"Steve\", \"age\": 32, \"budget\": 40000 },\n",
    "{ \"name\": \"Martin\", \"age\": 16, \"budget\": 2700 }])\n"
   ]
  },
  {
   "cell_type": "code",
   "execution_count": 142,
   "id": "lyric-career",
   "metadata": {},
   "outputs": [
    {
     "data": {
      "text/plain": [
       "'ehllo'"
      ]
     },
     "execution_count": 142,
     "metadata": {},
     "output_type": "execute_result"
    }
   ],
   "source": [
    "def alphabet_soup(x):\n",
    "    return \"\".join(sorted(list(x)))\n",
    "alphabet_soup('hello')"
   ]
  },
  {
   "cell_type": "code",
   "execution_count": 145,
   "id": "limited-height",
   "metadata": {},
   "outputs": [
    {
     "data": {
      "text/plain": [
       "105.0"
      ]
     },
     "execution_count": 145,
     "metadata": {},
     "output_type": "execute_result"
    }
   ],
   "source": [
    "def compound_interest(p,t,r,n):\n",
    "    return p*(1+r/n)**(n*t)\n",
    "compound_interest(100,1,0.05,1)"
   ]
  },
  {
   "cell_type": "code",
   "execution_count": 148,
   "id": "athletic-imperial",
   "metadata": {},
   "outputs": [],
   "source": [
    "def return_only_integer(x1):\n",
    "    result = [x for x in x1 if isinstance(x,int)]\n",
    "    print(result)"
   ]
  },
  {
   "cell_type": "code",
   "execution_count": 149,
   "id": "similar-blink",
   "metadata": {},
   "outputs": [
    {
     "name": "stdout",
     "output_type": "stream",
     "text": [
      "[9, 2, 16]\n"
     ]
    }
   ],
   "source": [
    "return_only_integer([9, 2, \"space\", \"car\",\"lion\", 16])"
   ]
  },
  {
   "cell_type": "code",
   "execution_count": null,
   "id": "resident-perception",
   "metadata": {},
   "outputs": [],
   "source": []
  }
 ],
 "metadata": {
  "kernelspec": {
   "display_name": "Python 3",
   "language": "python",
   "name": "python3"
  },
  "language_info": {
   "codemirror_mode": {
    "name": "ipython",
    "version": 3
   },
   "file_extension": ".py",
   "mimetype": "text/x-python",
   "name": "python",
   "nbconvert_exporter": "python",
   "pygments_lexer": "ipython3",
   "version": "3.7.6"
  }
 },
 "nbformat": 4,
 "nbformat_minor": 5
}
