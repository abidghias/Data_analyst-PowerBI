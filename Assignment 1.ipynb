{
 "cells": [
  {
   "cell_type": "code",
   "execution_count": 1,
   "id": "peripheral-magnet",
   "metadata": {},
   "outputs": [
    {
     "name": "stdout",
     "output_type": "stream",
     "text": [
      "Hello Python\n"
     ]
    }
   ],
   "source": [
    "print('Hello Python')"
   ]
  },
  {
   "cell_type": "code",
   "execution_count": 2,
   "id": "otherwise-facial",
   "metadata": {},
   "outputs": [
    {
     "name": "stdout",
     "output_type": "stream",
     "text": [
      "3\n",
      "2.0\n"
     ]
    }
   ],
   "source": [
    "print(1+2)\n",
    "print(2/1)"
   ]
  },
  {
   "cell_type": "code",
   "execution_count": 5,
   "id": "cutting-dubai",
   "metadata": {},
   "outputs": [
    {
     "name": "stdout",
     "output_type": "stream",
     "text": [
      "enter base 10\n",
      "enter height 2\n",
      "Area is 10.0\n"
     ]
    }
   ],
   "source": [
    "#3 \n",
    "x = int(input('enter base '))\n",
    "y = int(input('enter height '))\n",
    "z = print('Area is {}'.format(x*y/2))\n"
   ]
  },
  {
   "cell_type": "code",
   "execution_count": 7,
   "id": "trained-jamaica",
   "metadata": {},
   "outputs": [],
   "source": [
    "#4\n",
    "a = 2\n",
    "b = 3\n",
    "a,b=b,a\n"
   ]
  },
  {
   "cell_type": "code",
   "execution_count": 1,
   "id": "abstract-least",
   "metadata": {},
   "outputs": [],
   "source": [
    "#5\n",
    "import numpy as np\n"
   ]
  },
  {
   "cell_type": "code",
   "execution_count": 3,
   "id": "expired-guard",
   "metadata": {},
   "outputs": [
    {
     "data": {
      "text/plain": [
       "1.2657002980505563"
      ]
     },
     "execution_count": 3,
     "metadata": {},
     "output_type": "execute_result"
    }
   ],
   "source": [
    "np.random.randn()"
   ]
  },
  {
   "cell_type": "code",
   "execution_count": 5,
   "id": "stock-origin",
   "metadata": {},
   "outputs": [
    {
     "name": "stdout",
     "output_type": "stream",
     "text": [
      "4\n",
      "t\n"
     ]
    }
   ],
   "source": [
    "import random\n",
    " \n",
    "list1 = [1, 2, 3, 4, 5, 6]\n",
    "print(random.choice(list1))\n",
    " \n",
    "string = \"striver\"\n",
    "print(random.choice(string))"
   ]
  },
  {
   "cell_type": "code",
   "execution_count": null,
   "id": "younger-scholar",
   "metadata": {},
   "outputs": [],
   "source": []
  }
 ],
 "metadata": {
  "kernelspec": {
   "display_name": "Python 3",
   "language": "python",
   "name": "python3"
  },
  "language_info": {
   "codemirror_mode": {
    "name": "ipython",
    "version": 3
   },
   "file_extension": ".py",
   "mimetype": "text/x-python",
   "name": "python",
   "nbconvert_exporter": "python",
   "pygments_lexer": "ipython3",
   "version": "3.7.6"
  }
 },
 "nbformat": 4,
 "nbformat_minor": 5
}
