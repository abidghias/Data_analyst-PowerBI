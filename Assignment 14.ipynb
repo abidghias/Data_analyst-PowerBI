{
 "cells": [
  {
   "cell_type": "code",
   "execution_count": 12,
   "id": "diverse-annotation",
   "metadata": {},
   "outputs": [],
   "source": [
    "class divisible_by_7():\n",
    "    def __init__(self,lower,upper):\n",
    "        self.lower = lower\n",
    "        self.upper = upper\n",
    "        \n",
    "    def divisible(self):\n",
    "        l = []\n",
    "        for i in range(self.lower,self.upper+1):\n",
    "            if i%7 == 0:\n",
    "                l.append(i)\n",
    "        return l    \n",
    "            \n",
    "\n",
    "\n"
   ]
  },
  {
   "cell_type": "code",
   "execution_count": 13,
   "id": "architectural-horizontal",
   "metadata": {},
   "outputs": [
    {
     "data": {
      "text/plain": [
       "[7, 14, 21, 28, 35, 42, 49]"
      ]
     },
     "execution_count": 13,
     "metadata": {},
     "output_type": "execute_result"
    }
   ],
   "source": [
    "x = divisible_by_7(6,50)\n",
    "x.divisible()"
   ]
  },
  {
   "cell_type": "code",
   "execution_count": 34,
   "id": "funny-summary",
   "metadata": {},
   "outputs": [
    {
     "name": "stdout",
     "output_type": "stream",
     "text": [
      "enter your stringNew to Python or choosing between Python 2 and Python 3? Read Python 2 or Python 3.\n",
      "{('and', 1), ('to', 1), ('or', 2), ('choosing', 1), ('2', 2), ('3.', 1), ('between', 1), ('3?', 1), ('Read', 1), ('New', 1), ('Python', 5)}\n"
     ]
    }
   ],
   "source": [
    "x = input('enter your string')\n",
    "\n",
    "x1 = x.split()\n",
    "\n",
    "\n",
    "wordfreq = []\n",
    "for w in x1:\n",
    "    wordfreq.append(x1.count(w))\n",
    "    \n",
    "print(set(zip(x1, wordfreq)))"
   ]
  },
  {
   "cell_type": "code",
   "execution_count": 39,
   "id": "posted-technician",
   "metadata": {},
   "outputs": [
    {
     "name": "stdout",
     "output_type": "stream",
     "text": [
      "male\n"
     ]
    }
   ],
   "source": [
    "class Person:\n",
    "    def __init__(self, name, gender):\n",
    "        self.name = name\n",
    "        self.gender = gender\n",
    "    \n",
    "    \n",
    "    def getGender(self):\n",
    "        return self.gender\n",
    "\n",
    "class Male(Person):\n",
    "    def __init__(self, *args):\n",
    "        super(Male, self).__init__(*args)\n",
    "        \n",
    "    def __str__(self):\n",
    "        return self.gender\n",
    " \n",
    "class Female(Person):\n",
    "    def __init__(self, *args):\n",
    "        super(Male, self).__init__(*args)\n",
    "    \n",
    "    def __str__(self):\n",
    "        return self.gender\n",
    "        \n",
    "a = Male('Abid','male')\n",
    "print(a)\n",
    " "
   ]
  },
  {
   "cell_type": "code",
   "execution_count": 16,
   "id": "located-moral",
   "metadata": {},
   "outputs": [
    {
     "name": "stdout",
     "output_type": "stream",
     "text": [
      "23 \n",
      "\n",
      "b'x\\x9c\\xcbH\\xcd\\xc9\\xc9W(\\xcf/\\xcaIQ\\xcc \\x82\\r\\x00\\xbd[\\x11\\xf5' \n",
      "\n",
      "48\n"
     ]
    }
   ],
   "source": [
    "import zlib\n",
    "\n",
    "\n",
    "a = b\"hello world!hello world!hello world!hello world!\"\n",
    "a = zlib.compress(a)\n",
    "print(len(a),'\\n')\n",
    "print(a,'\\n')\n",
    "b = zlib.decompress(a)\n",
    "print(len(b))#ou"
   ]
  },
  {
   "cell_type": "code",
   "execution_count": null,
   "id": "appreciated-instrument",
   "metadata": {},
   "outputs": [],
   "source": [
    "x = input()\n",
    "x1 = x.split()\n",
    "x1.sort()\n",
    "\n",
    "y = input('Enter the element to be searched')\n",
    "\n",
    "for i in x1:\n",
    "    if y in i :\n",
    "        print(x1.index(y))\n"
   ]
  },
  {
   "cell_type": "code",
   "execution_count": null,
   "id": "stone-broadcasting",
   "metadata": {},
   "outputs": [],
   "source": []
  },
  {
   "cell_type": "code",
   "execution_count": null,
   "id": "synthetic-tennis",
   "metadata": {},
   "outputs": [],
   "source": []
  }
 ],
 "metadata": {
  "kernelspec": {
   "display_name": "Python 3",
   "language": "python",
   "name": "python3"
  },
  "language_info": {
   "codemirror_mode": {
    "name": "ipython",
    "version": 3
   },
   "file_extension": ".py",
   "mimetype": "text/x-python",
   "name": "python",
   "nbconvert_exporter": "python",
   "pygments_lexer": "ipython3",
   "version": "3.7.6"
  }
 },
 "nbformat": 4,
 "nbformat_minor": 5
}
