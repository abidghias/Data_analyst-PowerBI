{
 "cells": [
  {
   "cell_type": "code",
   "execution_count": 37,
   "id": "rental-google",
   "metadata": {},
   "outputs": [
    {
     "name": "stdout",
     "output_type": "stream",
     "text": [
      "1.0\n",
      "2\n",
      "3\n",
      "4\n"
     ]
    }
   ],
   "source": [
    "filter_list = [1.0, 'c', 'a', 'b',2,3,4]\n",
    "\n",
    "\n",
    "\n",
    "list_2 =filter(lambda n: isinstance(n, (float,int)), filter_list)\n",
    "for i in list_2:\n",
    "    print(i)\n",
    "\n"
   ]
  },
  {
   "cell_type": "code",
   "execution_count": 31,
   "id": "metric-tactics",
   "metadata": {},
   "outputs": [
    {
     "name": "stdout",
     "output_type": "stream",
     "text": [
      "DLROw OLLEh\n"
     ]
    }
   ],
   "source": [
    "def reverse(x):\n",
    "    x = x[::-1]\n",
    "    x = x.swapcase()\n",
    "    print(x)\n",
    "\n",
    "reverse('Hello World')"
   ]
  },
  {
   "cell_type": "code",
   "execution_count": 41,
   "id": "adequate-phoenix",
   "metadata": {},
   "outputs": [
    {
     "name": "stdout",
     "output_type": "stream",
     "text": [
      "1\n",
      "[2, 3, 4, 5]\n",
      "6\n"
     ]
    }
   ],
   "source": [
    "lst = [1,2,3,4,5,6]\n",
    "first,middle,last = lst[0],lst[1:-1],lst[-1]\n",
    "\n",
    "print(first)\n",
    "print(middle)\n",
    "print(last)"
   ]
  },
  {
   "cell_type": "code",
   "execution_count": 47,
   "id": "protective-religion",
   "metadata": {},
   "outputs": [
    {
     "data": {
      "text/plain": [
       "24"
      ]
     },
     "execution_count": 47,
     "metadata": {},
     "output_type": "execute_result"
    }
   ],
   "source": [
    "def factorial(n):\n",
    "    if n == 0 or n == 1:\n",
    "        return 1\n",
    "    else:\n",
    "        return n * factorial(n-1)\n",
    "factorial(4)"
   ]
  },
  {
   "cell_type": "code",
   "execution_count": 64,
   "id": "former-compiler",
   "metadata": {},
   "outputs": [
    {
     "name": "stdout",
     "output_type": "stream",
     "text": [
      "[3, 4, 5, 6, 7, 1, 2, 1, 1]\n"
     ]
    }
   ],
   "source": [
    "def move_to_end(x,y):\n",
    "    x.append(y)\n",
    "    x.remove(y)\n",
    "    print(x)\n",
    "       \n",
    "move_to_end([3,4,5,1,6,7,1,2,1],1)"
   ]
  },
  {
   "cell_type": "code",
   "execution_count": 77,
   "id": "passive-customer",
   "metadata": {},
   "outputs": [
    {
     "name": "stdout",
     "output_type": "stream",
     "text": [
      "['string2', 'string3', 'string1']\n",
      "['mango', 'cherry', 'kiwi', 'apple']\n"
     ]
    }
   ],
   "source": [
    "def move_to_end(x,y):\n",
    "    last = x.index(y)\n",
    "    #swapping the last variable with the variable present at the index position of the desired variable to be swapped\n",
    "    x[-1] , x[last] = x[last], x[-1]\n",
    "    print(x)\n",
    "\n",
    "       \n",
    "move_to_end(['string1', 'string3', 'string2'],'string1')\n",
    "move_to_end(['apple','cherry','kiwi','mango'],'apple')"
   ]
  },
  {
   "cell_type": "code",
   "execution_count": null,
   "id": "naval-peninsula",
   "metadata": {},
   "outputs": [],
   "source": []
  }
 ],
 "metadata": {
  "kernelspec": {
   "display_name": "Python 3",
   "language": "python",
   "name": "python3"
  },
  "language_info": {
   "codemirror_mode": {
    "name": "ipython",
    "version": 3
   },
   "file_extension": ".py",
   "mimetype": "text/x-python",
   "name": "python",
   "nbconvert_exporter": "python",
   "pygments_lexer": "ipython3",
   "version": "3.7.6"
  }
 },
 "nbformat": 4,
 "nbformat_minor": 5
}
