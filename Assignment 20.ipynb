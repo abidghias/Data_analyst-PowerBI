{
 "cells": [
  {
   "cell_type": "code",
   "execution_count": 111,
   "id": "martial-telephone",
   "metadata": {},
   "outputs": [
    {
     "data": {
      "text/plain": [
       "[1, 2, 3]"
      ]
     },
     "execution_count": 111,
     "metadata": {},
     "output_type": "execute_result"
    }
   ],
   "source": [
    "def filter_list(x):\n",
    "    result = [e for e in x if isinstance(e,int)]\n",
    "    return result\n",
    "    \n",
    "filter_list([1,2,3,'a'])"
   ]
  },
  {
   "cell_type": "code",
   "execution_count": 112,
   "id": "terminal-personality",
   "metadata": {},
   "outputs": [
    {
     "data": {
      "text/plain": [
       "[1, 2, 3]"
      ]
     },
     "execution_count": 112,
     "metadata": {},
     "output_type": "execute_result"
    }
   ],
   "source": [
    "#method 2\n",
    "x = [1,2,3,'a']\n",
    "result = [i for i in x if type(i) == int]\n",
    "result"
   ]
  },
  {
   "cell_type": "code",
   "execution_count": 113,
   "id": "acoustic-casting",
   "metadata": {},
   "outputs": [
    {
     "data": {
      "text/plain": [
       "[5, 5, 5, 5, 5]"
      ]
     },
     "execution_count": 113,
     "metadata": {},
     "output_type": "execute_result"
    }
   ],
   "source": [
    "def add_indexes(x):\n",
    "    sum1 = 0\n",
    "    len1 = 0\n",
    "    l = []\n",
    "    while len1 < len(x):\n",
    "        result = x[len1] + len1\n",
    "        l.append(result)\n",
    "        len1 += 1\n",
    "    return l\n",
    "add_indexes([5,4,3,2,1])"
   ]
  },
  {
   "cell_type": "code",
   "execution_count": 114,
   "id": "standing-antibody",
   "metadata": {},
   "outputs": [
    {
     "data": {
      "text/plain": [
       "18.85"
      ]
     },
     "execution_count": 114,
     "metadata": {},
     "output_type": "execute_result"
    }
   ],
   "source": [
    "import math\n",
    "def cone_volume(radius,height):\n",
    "    return round((math.pi*radius*radius)*(height/3),2)\n",
    "cone_volume(3,2)"
   ]
  },
  {
   "cell_type": "code",
   "execution_count": 115,
   "id": "environmental-spell",
   "metadata": {},
   "outputs": [
    {
     "data": {
      "text/plain": [
       "23220"
      ]
     },
     "execution_count": 115,
     "metadata": {},
     "output_type": "execute_result"
    }
   ],
   "source": [
    "def triangle(x):\n",
    "    result = (x*(x+1))/2\n",
    "    return int(result)\n",
    "        \n",
    "        \n",
    "    \n",
    "\n",
    "\n",
    "triangle(215)"
   ]
  },
  {
   "cell_type": "code",
   "execution_count": 116,
   "id": "virgin-pillow",
   "metadata": {},
   "outputs": [
    {
     "data": {
      "text/plain": [
       "5"
      ]
     },
     "execution_count": 116,
     "metadata": {},
     "output_type": "execute_result"
    }
   ],
   "source": [
    "def missing_num(x):\n",
    "    x1 = sorted(x)\n",
    "    x2 = [1,2,3,4,5,6,7,8,9,10]\n",
    "    for i in x2:\n",
    "        if i not in x1:\n",
    "            return i\n",
    "        \n",
    "        \n",
    "            \n",
    "        \n",
    "        \n",
    "missing_num([1,2,3,4,6,7,8,9,10])"
   ]
  },
  {
   "cell_type": "code",
   "execution_count": null,
   "id": "behind-vessel",
   "metadata": {},
   "outputs": [],
   "source": []
  }
 ],
 "metadata": {
  "kernelspec": {
   "display_name": "Python 3",
   "language": "python",
   "name": "python3"
  },
  "language_info": {
   "codemirror_mode": {
    "name": "ipython",
    "version": 3
   },
   "file_extension": ".py",
   "mimetype": "text/x-python",
   "name": "python",
   "nbconvert_exporter": "python",
   "pygments_lexer": "ipython3",
   "version": "3.7.6"
  }
 },
 "nbformat": 4,
 "nbformat_minor": 5
}
