{
 "cells": [
  {
   "cell_type": "code",
   "execution_count": 27,
   "id": "olympic-operations",
   "metadata": {},
   "outputs": [
    {
     "data": {
      "text/plain": [
       "'1122334455'"
      ]
     },
     "execution_count": 27,
     "metadata": {},
     "output_type": "execute_result"
    }
   ],
   "source": [
    "def double_char(x):\n",
    "    x1 = ''.join([char*2 for char in x])\n",
    "    return x1\n",
    "double_char('12345')"
   ]
  },
  {
   "cell_type": "code",
   "execution_count": 41,
   "id": "regular-english",
   "metadata": {},
   "outputs": [
    {
     "name": "stdout",
     "output_type": "stream",
     "text": [
      "boolean expected\n"
     ]
    }
   ],
   "source": [
    "def reverse(x):\n",
    "    if (x) is True:\n",
    "        return False\n",
    "    elif x is False:\n",
    "        return True\n",
    "    else:\n",
    "        print('boolean expected')\n",
    "reverse(1)\n",
    "        \n"
   ]
  },
  {
   "cell_type": "code",
   "execution_count": 68,
   "id": "cloudy-tamil",
   "metadata": {},
   "outputs": [
    {
     "data": {
      "text/plain": [
       "8.0"
      ]
     },
     "execution_count": 68,
     "metadata": {},
     "output_type": "execute_result"
    }
   ],
   "source": [
    "def num_layers(x):\n",
    "    thickness = 0.5  \n",
    "    \n",
    "    for i in range(1, x + 1):\n",
    "        thickness = thickness * 2\n",
    "    \n",
    "    return thickness\n",
    "num_layers(4)"
   ]
  },
  {
   "cell_type": "code",
   "execution_count": 75,
   "id": "given-incident",
   "metadata": {},
   "outputs": [
    {
     "data": {
      "text/plain": [
       "[1]"
      ]
     },
     "execution_count": 75,
     "metadata": {},
     "output_type": "execute_result"
    }
   ],
   "source": [
    "def index_of_caps(x):\n",
    "    x1 = list(x)\n",
    "    l1 = []\n",
    "    alphabets = 'QWERTYUIOPASDFGHJKLZXCVBNM'\n",
    "    for i in alphabets:\n",
    "        if i in x1:\n",
    "            l1.append(x.find(i))\n",
    "    return l1\n",
    "index_of_caps('sUn')           "
   ]
  },
  {
   "cell_type": "code",
   "execution_count": 85,
   "id": "imported-simple",
   "metadata": {},
   "outputs": [
    {
     "data": {
      "text/plain": [
       "[2, 4, 6, 8, 10, 12, 14, 16, 18]"
      ]
     },
     "execution_count": 85,
     "metadata": {},
     "output_type": "execute_result"
    }
   ],
   "source": [
    "def find_even_nums(x):\n",
    "    return [x for x in range(1,x+1) if (x % 2 == 0)]\n",
    "\n",
    "\n",
    "find_even_nums(18)     "
   ]
  },
  {
   "cell_type": "code",
   "execution_count": 82,
   "id": "occupied-exemption",
   "metadata": {},
   "outputs": [
    {
     "data": {
      "text/plain": [
       "[2, 4, 6, 8]"
      ]
     },
     "execution_count": 82,
     "metadata": {},
     "output_type": "execute_result"
    }
   ],
   "source": [
    "list1 =  [x for x in range(1,8+1) if (x % 2 == 0)]\n",
    "list1"
   ]
  },
  {
   "cell_type": "code",
   "execution_count": 90,
   "id": "swedish-government",
   "metadata": {},
   "outputs": [
    {
     "data": {
      "text/plain": [
       "'U'"
      ]
     },
     "execution_count": 90,
     "metadata": {},
     "output_type": "execute_result"
    }
   ],
   "source": [
    "def index_of_caps(x):\n",
    "    for i in range(len(x)):\n",
    "        if x[i].istitle():\n",
    "            return x[i]\n",
    "index_of_caps('sUnR')"
   ]
  },
  {
   "cell_type": "code",
   "execution_count": null,
   "id": "sustained-poster",
   "metadata": {},
   "outputs": [],
   "source": []
  }
 ],
 "metadata": {
  "kernelspec": {
   "display_name": "Python 3",
   "language": "python",
   "name": "python3"
  },
  "language_info": {
   "codemirror_mode": {
    "name": "ipython",
    "version": 3
   },
   "file_extension": ".py",
   "mimetype": "text/x-python",
   "name": "python",
   "nbconvert_exporter": "python",
   "pygments_lexer": "ipython3",
   "version": "3.7.6"
  }
 },
 "nbformat": 4,
 "nbformat_minor": 5
}
