{
 "cells": [
  {
   "cell_type": "code",
   "execution_count": 32,
   "id": "friendly-sunset",
   "metadata": {},
   "outputs": [],
   "source": [
    "def divisible_7_5(x):\n",
    "    for i in range(0,x+1):\n",
    "        if (i % 5 == 0) & (i % 7 == 0):\n",
    "            yield i\n",
    "       \n",
    "        \n",
    "    "
   ]
  },
  {
   "cell_type": "code",
   "execution_count": 33,
   "id": "accessible-aberdeen",
   "metadata": {},
   "outputs": [
    {
     "data": {
      "text/plain": [
       "[0, 35, 70]"
      ]
     },
     "execution_count": 33,
     "metadata": {},
     "output_type": "execute_result"
    }
   ],
   "source": [
    "list(divisible_7_5(100))\n"
   ]
  },
  {
   "cell_type": "code",
   "execution_count": 4,
   "id": "asian-modeling",
   "metadata": {},
   "outputs": [],
   "source": [
    "def even_0_n(x):\n",
    "    yield  list(range(2,x,2))\n",
    "    \n",
    "    "
   ]
  },
  {
   "cell_type": "code",
   "execution_count": 5,
   "id": "conditional-plenty",
   "metadata": {},
   "outputs": [
    {
     "data": {
      "text/plain": [
       "[[2, 4, 6, 8, 10, 12, 14, 16, 18, 20, 22, 24, 26, 28, 30, 32, 34, 36, 38]]"
      ]
     },
     "execution_count": 5,
     "metadata": {},
     "output_type": "execute_result"
    }
   ],
   "source": [
    "list(even_0_n(40))"
   ]
  },
  {
   "cell_type": "code",
   "execution_count": 9,
   "id": "brutal-award",
   "metadata": {},
   "outputs": [],
   "source": [
    "def fibonacci(x):\n",
    "    first = 0\n",
    "    second = 1\n",
    "    while first < x:\n",
    "        yield first\n",
    "        first, second = second , first + second\n",
    "        "
   ]
  },
  {
   "cell_type": "code",
   "execution_count": 10,
   "id": "august-device",
   "metadata": {},
   "outputs": [
    {
     "name": "stdout",
     "output_type": "stream",
     "text": [
      "0\n",
      "1\n",
      "1\n",
      "2\n",
      "3\n",
      "5\n",
      "8\n"
     ]
    }
   ],
   "source": [
    "for i in fibonacci(10):\n",
    "    print(i)"
   ]
  },
  {
   "cell_type": "code",
   "execution_count": 11,
   "id": "liked-problem",
   "metadata": {},
   "outputs": [],
   "source": [
    "import re\n"
   ]
  },
  {
   "cell_type": "code",
   "execution_count": 19,
   "id": "varying-pipeline",
   "metadata": {
    "scrolled": true
   },
   "outputs": [
    {
     "data": {
      "text/plain": [
       "['username']"
      ]
     },
     "execution_count": 19,
     "metadata": {},
     "output_type": "execute_result"
    }
   ],
   "source": [
    "x = \"username@companyname.com\"\n",
    "re.findall('(.+)@',x)"
   ]
  },
  {
   "cell_type": "code",
   "execution_count": 25,
   "id": "jewish-declaration",
   "metadata": {},
   "outputs": [
    {
     "name": "stdout",
     "output_type": "stream",
     "text": [
      "Enter side of Square: 3\n",
      "Area of Square: 9\n",
      "\n"
     ]
    }
   ],
   "source": [
    "class Shape():\n",
    "    def __init__(self,length=0):\n",
    "        self.length=length\n",
    "    def area(self):\n",
    "        return self.length*self.length\n",
    "    \n",
    "class Square(Shape):\n",
    "    def __init__(self,*args):\n",
    "        super(Square,self).__init__(*args)\n",
    "    def area(self):\n",
    "        return self.length*self.length\n",
    "        \n",
    "    \n",
    "    \n",
    "    \n",
    "    \n",
    "a=int(input(\"Enter side of Square: \"))\n",
    "\n",
    "obj=Square(a)\n",
    "print(\"Area of Square:\",obj.area())\n",
    " \n",
    "print()"
   ]
  },
  {
   "cell_type": "code",
   "execution_count": null,
   "id": "realistic-payroll",
   "metadata": {},
   "outputs": [],
   "source": []
  },
  {
   "cell_type": "code",
   "execution_count": null,
   "id": "illegal-vertex",
   "metadata": {},
   "outputs": [],
   "source": []
  },
  {
   "cell_type": "code",
   "execution_count": null,
   "id": "selective-saver",
   "metadata": {},
   "outputs": [],
   "source": []
  },
  {
   "cell_type": "code",
   "execution_count": null,
   "id": "orange-inquiry",
   "metadata": {},
   "outputs": [],
   "source": []
  }
 ],
 "metadata": {
  "kernelspec": {
   "display_name": "Python 3",
   "language": "python",
   "name": "python3"
  },
  "language_info": {
   "codemirror_mode": {
    "name": "ipython",
    "version": 3
   },
   "file_extension": ".py",
   "mimetype": "text/x-python",
   "name": "python",
   "nbconvert_exporter": "python",
   "pygments_lexer": "ipython3",
   "version": "3.7.6"
  }
 },
 "nbformat": 4,
 "nbformat_minor": 5
}
