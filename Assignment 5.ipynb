{
 "cells": [
  {
   "cell_type": "code",
   "execution_count": 2,
   "id": "sitting-schema",
   "metadata": {},
   "outputs": [
    {
     "name": "stdout",
     "output_type": "stream",
     "text": [
      "Enter a number10\n"
     ]
    },
    {
     "data": {
      "text/plain": [
       "[1, 2, 5]"
      ]
     },
     "execution_count": 2,
     "metadata": {},
     "output_type": "execute_result"
    }
   ],
   "source": [
    "x = int(input('Enter a number'))\n",
    "l = []\n",
    "for i in range(1,x):\n",
    "    if x%i == 0:\n",
    "        l.append(i)\n",
    "    \n",
    "l"
   ]
  },
  {
   "cell_type": "code",
   "execution_count": 10,
   "id": "bibliographic-donna",
   "metadata": {},
   "outputs": [
    {
     "name": "stdout",
     "output_type": "stream",
     "text": [
      "The L.C.M. is 1200\n"
     ]
    }
   ],
   "source": [
    "def lcm(x,y):\n",
    "    if x > y:\n",
    "        greater = x\n",
    "    else:\n",
    "        greater = y\n",
    "        \n",
    "    while True:\n",
    "        if((greater % x == 0) & (greater % y == 0)):\n",
    "            lcm = greater\n",
    "            break\n",
    "        greater += 1\n",
    "\n",
    "    return lcm\n",
    "\n",
    "num1 = 600\n",
    "num2 = 400\n",
    "\n",
    "print(\"The L.C.M. is\", lcm(num1, num2))\n"
   ]
  },
  {
   "cell_type": "code",
   "execution_count": 9,
   "id": "robust-northern",
   "metadata": {},
   "outputs": [
    {
     "name": "stdout",
     "output_type": "stream",
     "text": [
      "The HCF is 10\n"
     ]
    }
   ],
   "source": [
    "def hcf(x, y):\n",
    "\n",
    "# choose the smaller number\n",
    "    if x > y:\n",
    "        smaller = y\n",
    "    else:\n",
    "        smaller = x\n",
    "    for i in range(1, smaller+1):\n",
    "        if((x % i == 0) and (y % i == 0)):\n",
    "            hcf = i \n",
    "    return hcf\n",
    "\n",
    "num1 = 50\n",
    "num2 = 20\n",
    "\n",
    "print(\"The HCF is\", hcf(num1, num2))"
   ]
  },
  {
   "cell_type": "code",
   "execution_count": 11,
   "id": "charming-cooking",
   "metadata": {},
   "outputs": [
    {
     "name": "stdout",
     "output_type": "stream",
     "text": [
      "The decimal value of 344 is:\n",
      "0b101011000 in binary.\n",
      "0o530 in octal.\n",
      "0x158 in hexadecimal.\n"
     ]
    }
   ],
   "source": [
    "#3\n",
    "dec = 344\n",
    "\n",
    "print(\"The decimal value of\", dec, \"is:\")\n",
    "print(bin(dec), \"in binary.\")\n",
    "print(oct(dec), \"in octal.\")\n",
    "print(hex(dec), \"in hexadecimal.\")"
   ]
  },
  {
   "cell_type": "code",
   "execution_count": 13,
   "id": "electric-chapel",
   "metadata": {},
   "outputs": [
    {
     "name": "stdout",
     "output_type": "stream",
     "text": [
      "a\n",
      "97\n"
     ]
    }
   ],
   "source": [
    "x = input()\n",
    "\n",
    "\n",
    "print(ord(x))"
   ]
  },
  {
   "cell_type": "code",
   "execution_count": 16,
   "id": "cheap-liability",
   "metadata": {},
   "outputs": [
    {
     "name": "stdout",
     "output_type": "stream",
     "text": [
      "60\n",
      "40\n",
      "500\n",
      "0.2\n"
     ]
    }
   ],
   "source": [
    "def calc(x,y):\n",
    "    print(x+y)\n",
    "    greater = 0\n",
    "    smaller = 0\n",
    "    if x>y:\n",
    "        greater = x\n",
    "        smaller = y\n",
    "    else:\n",
    "        greater = y\n",
    "        smaller = x\n",
    "        \n",
    "    print(greater - smaller)\n",
    "    print(x*y)\n",
    "    print(x/y)\n",
    "calc(10,50)"
   ]
  },
  {
   "cell_type": "code",
   "execution_count": null,
   "id": "equipped-consultation",
   "metadata": {},
   "outputs": [],
   "source": []
  }
 ],
 "metadata": {
  "kernelspec": {
   "display_name": "Python 3",
   "language": "python",
   "name": "python3"
  },
  "language_info": {
   "codemirror_mode": {
    "name": "ipython",
    "version": 3
   },
   "file_extension": ".py",
   "mimetype": "text/x-python",
   "name": "python",
   "nbconvert_exporter": "python",
   "pygments_lexer": "ipython3",
   "version": "3.7.6"
  }
 },
 "nbformat": 4,
 "nbformat_minor": 5
}
