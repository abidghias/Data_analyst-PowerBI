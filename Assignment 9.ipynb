{
 "cells": [
  {
   "cell_type": "code",
   "execution_count": 8,
   "id": "hollow-allah",
   "metadata": {},
   "outputs": [
    {
     "name": "stdout",
     "output_type": "stream",
     "text": [
      "175\n",
      "disarium number\n"
     ]
    }
   ],
   "source": [
    "num = int(input())\n",
    "rem = s = 0;    \n",
    "len1 = len(str(num))\n",
    "     \n",
    "#Makes a copy of the original number num    \n",
    "n = num \n",
    "     \n",
    "#Calculates the sum of digits powered with their respective position    \n",
    "while(num > 0):    \n",
    "    rem = num%10   \n",
    "    s += rem**len1\n",
    "    num = num//10    \n",
    "    len1 -= 1 \n",
    "     \n",
    "#Checks whether the sum is equal to the number itself    \n",
    "if s == n:    \n",
    "    print( \"disarium number\")\n",
    "else:    \n",
    "    print(\" not a disarium number\")"
   ]
  },
  {
   "cell_type": "code",
   "execution_count": 17,
   "id": "broken-rebel",
   "metadata": {},
   "outputs": [
    {
     "name": "stdout",
     "output_type": "stream",
     "text": [
      "Disarium numbers between 1 and 100 are\n",
      "1\n",
      "2\n",
      "3\n",
      "4\n",
      "5\n",
      "6\n",
      "7\n",
      "8\n",
      "9\n",
      "89\n"
     ]
    }
   ],
   "source": [
    "def calculateLength(n):  \n",
    "    length = 0;  \n",
    "    while(n != 0):  \n",
    "        length = length + 1;  \n",
    "        n = n//10;  \n",
    "    return length;  \n",
    "   \n",
    "#sumOfDigits() will calculates the sum of digits powered with their respective position  \n",
    "def sumOfDigits(num):  \n",
    "    rem = sum = 0;  \n",
    "    len = calculateLength(num);  \n",
    "      \n",
    "    while(num > 0):  \n",
    "        rem = num%10;  \n",
    "        sum = sum + (rem**len);  \n",
    "        num = num//10;  \n",
    "        len = len - 1;  \n",
    "    return sum;  \n",
    "    \n",
    "result = 0;  \n",
    "   \n",
    "#Displays all disarium numbers between 1 and 100  \n",
    "print(\"Disarium numbers between 1 and 100 are\");  \n",
    "for i in range(1, 101):  \n",
    "    result = sumOfDigits(i);  \n",
    "      \n",
    "    if(result == i):  \n",
    "        print(i),  "
   ]
  },
  {
   "cell_type": "code",
   "execution_count": 18,
   "id": "sophisticated-frank",
   "metadata": {},
   "outputs": [
    {
     "name": "stdout",
     "output_type": "stream",
     "text": [
      "13 is a Happy number\n"
     ]
    }
   ],
   "source": [
    "def numSquareSum(n): \n",
    "    squareSum = 0; \n",
    "    while(n): \n",
    "        squareSum += (n % 10) * (n % 10); \n",
    "        n = int(n / 10); \n",
    "    return squareSum; \n",
    "  \n",
    "# method return true if \n",
    "# n is Happy number \n",
    "def isHappynumber(n): \n",
    "  \n",
    "    # initialize slow  \n",
    "    # and fast by n \n",
    "    slow = n; \n",
    "    fast = n; \n",
    "    while(True): \n",
    "          \n",
    "        # move slow number \n",
    "        # by one iteration \n",
    "        slow = numSquareSum(slow); \n",
    "  \n",
    "        # move fast number \n",
    "        # by two iteration \n",
    "        fast = numSquareSum(numSquareSum(fast)); \n",
    "        if(slow != fast): \n",
    "            continue; \n",
    "        else: \n",
    "            break; \n",
    "  \n",
    "    # if both number meet at 1,  \n",
    "    # then return true \n",
    "    return (slow == 1); \n",
    "  \n",
    "# Driver Code \n",
    "n = 13; \n",
    "if (isHappynumber(n)): \n",
    "    print(n , \"is a Happy number\"); \n",
    "else: \n",
    "    print(n , \"is not a Happy number\");"
   ]
  },
  {
   "cell_type": "code",
   "execution_count": 19,
   "id": "martial-identification",
   "metadata": {},
   "outputs": [
    {
     "name": "stdout",
     "output_type": "stream",
     "text": [
      "List of happy numbers between 1 and 100: \n",
      "1\n",
      " \n",
      "7\n",
      " \n",
      "10\n",
      " \n",
      "13\n",
      " \n",
      "19\n",
      " \n",
      "23\n",
      " \n",
      "28\n",
      " \n",
      "31\n",
      " \n",
      "32\n",
      " \n",
      "44\n",
      " \n",
      "49\n",
      " \n",
      "68\n",
      " \n",
      "70\n",
      " \n",
      "79\n",
      " \n",
      "82\n",
      " \n",
      "86\n",
      " \n",
      "91\n",
      " \n",
      "94\n",
      " \n",
      "97\n",
      " \n",
      "100\n",
      " \n"
     ]
    }
   ],
   "source": [
    "def isHappyNumber(num):  \n",
    "    rem = sum = 0;  \n",
    "      \n",
    "    #Calculates the sum of squares of digits  \n",
    "    while(num > 0):  \n",
    "        rem = num%10;  \n",
    "        sum = sum + (rem*rem);  \n",
    "        num = num//10;  \n",
    "    return sum;  \n",
    "          \n",
    "#Displays all happy numbers between 1 and 100  \n",
    "print(\"List of happy numbers between 1 and 100: \");  \n",
    "for i in range(1, 101):  \n",
    "    result = i;  \n",
    "      \n",
    "    #Happy number always ends with 1 and   \n",
    "    #unhappy number ends in a cycle of repeating numbers which contains 4  \n",
    "    while(result != 1 and result != 4):  \n",
    "        result = isHappyNumber(result);  \n",
    "      \n",
    "    if(result == 1):  \n",
    "        print(i),  \n",
    "        print(\" \"),  "
   ]
  },
  {
   "cell_type": "code",
   "execution_count": 15,
   "id": "spoken-interface",
   "metadata": {},
   "outputs": [],
   "source": [
    "#the number must be divisible by the sum of its numbers\n",
    "#for eg. 18 = 1+8 = 9. 18 % 9 == 0. therefore its a harshad number\n",
    "\n",
    "  \n",
    "def checkHarshad( n ) : \n",
    "    sum = 0\n",
    "    temp = n \n",
    "    while temp > 0 : \n",
    "        sum = sum + temp % 10\n",
    "        temp = temp // 10\n",
    "    # Return true if sum of \n",
    "    # digits is multiple of n \n",
    "    return n % sum == 0"
   ]
  },
  {
   "cell_type": "code",
   "execution_count": 19,
   "id": "equipped-nickname",
   "metadata": {},
   "outputs": [
    {
     "data": {
      "text/plain": [
       "True"
      ]
     },
     "execution_count": 19,
     "metadata": {},
     "output_type": "execute_result"
    }
   ],
   "source": [
    "checkHarshad(18)"
   ]
  },
  {
   "cell_type": "code",
   "execution_count": 20,
   "id": "thirty-coating",
   "metadata": {},
   "outputs": [
    {
     "name": "stdout",
     "output_type": "stream",
     "text": [
      "Pronic numbers between 1 and 100: \n",
      "2\n",
      " \n",
      "6\n",
      " \n",
      "12\n",
      " \n",
      "20\n",
      " \n",
      "30\n",
      " \n",
      "42\n",
      " \n",
      "56\n",
      " \n",
      "72\n",
      " \n",
      "90\n",
      " \n"
     ]
    }
   ],
   "source": [
    "def isPronicNumber(num):    \n",
    "    flag = False;    \n",
    "        \n",
    "    for j in range(1, num+1):    \n",
    "        #Checks for pronic number by multiplying consecutive numbers    \n",
    "        if((j*(j+1)) == num):    \n",
    "            flag = True;    \n",
    "            break;    \n",
    "    return flag;    \n",
    "     \n",
    "#Displays pronic numbers between 1 and 100    \n",
    "print(\"Pronic numbers between 1 and 100: \");    \n",
    "for i in range(1, 101):    \n",
    "    if(isPronicNumber(i)):    \n",
    "        print(i),    \n",
    "        print(\" \"), "
   ]
  },
  {
   "cell_type": "code",
   "execution_count": null,
   "id": "numerous-maker",
   "metadata": {},
   "outputs": [],
   "source": []
  }
 ],
 "metadata": {
  "kernelspec": {
   "display_name": "Python 3",
   "language": "python",
   "name": "python3"
  },
  "language_info": {
   "codemirror_mode": {
    "name": "ipython",
    "version": 3
   },
   "file_extension": ".py",
   "mimetype": "text/x-python",
   "name": "python",
   "nbconvert_exporter": "python",
   "pygments_lexer": "ipython3",
   "version": "3.7.6"
  }
 },
 "nbformat": 4,
 "nbformat_minor": 5
}
