{
 "cells": [
  {
   "cell_type": "code",
   "execution_count": 23,
   "id": "complex-settlement",
   "metadata": {},
   "outputs": [
    {
     "data": {
      "text/plain": [
       "True"
      ]
     },
     "execution_count": 23,
     "metadata": {},
     "output_type": "execute_result"
    }
   ],
   "source": [
    "def is_symmetrical(number):\n",
    "    revs_number = 0\n",
    "    number1 = number\n",
    "  \n",
    "# reverse the integer number using the while loop  \n",
    "  \n",
    "    while (number > 0):\n",
    "        remainder = number % 10  \n",
    "        revs_number = (revs_number * 10) + remainder  \n",
    "        number = number // 10  \n",
    "        \n",
    "    if number1 == revs_number:\n",
    "        return True\n",
    "    return False\n",
    "is_symmetrical(123321)"
   ]
  },
  {
   "cell_type": "code",
   "execution_count": 48,
   "id": "naval-rover",
   "metadata": {},
   "outputs": [
    {
     "data": {
      "text/plain": [
       "30"
      ]
     },
     "execution_count": 48,
     "metadata": {},
     "output_type": "execute_result"
    }
   ],
   "source": [
    "import re\n",
    "def multiply_nums(x):\n",
    "    #x = x.replace(\" \",\"\")\n",
    "    x = re.split(\",\",x)\n",
    "    res = 1\n",
    "    for i in x:\n",
    "        res *= int(i)\n",
    "        \n",
    "    return res\n",
    "        \n",
    "multiply_nums(\"2, 3,  5\")"
   ]
  },
  {
   "cell_type": "code",
   "execution_count": 109,
   "id": "alpine-homework",
   "metadata": {},
   "outputs": [
    {
     "name": "stdout",
     "output_type": "stream",
     "text": [
      "811181"
     ]
    }
   ],
   "source": [
    "def square_digits(x):\n",
    "    res = [x for x in str(x)]\n",
    "    res1 = []\n",
    "    res3 = \" \"\n",
    "    for i in res:\n",
    "        i = int(i)\n",
    "        if(isinstance(i,int)):\n",
    "            \n",
    "            \n",
    "            res1.append(i**2)\n",
    "    for i1 in res1:\n",
    "        print(i1,end=\"\")\n",
    "        \n",
    "\n",
    "\n",
    "square_digits(9119)"
   ]
  },
  {
   "cell_type": "code",
   "execution_count": 117,
   "id": "loaded-purchase",
   "metadata": {},
   "outputs": [
    {
     "name": "stdout",
     "output_type": "stream",
     "text": [
      "[2, 5, 7, 8, 10, 15]\n"
     ]
    }
   ],
   "source": [
    "def setify(x):\n",
    "    x = set(x)\n",
    "    x1 = list(x)\n",
    "    print(sorted(x1))\n",
    "    \n",
    "setify([5,7,8,10,15,2])"
   ]
  },
  {
   "cell_type": "code",
   "execution_count": 123,
   "id": "sensitive-patrick",
   "metadata": {},
   "outputs": [
    {
     "name": "stdout",
     "output_type": "stream",
     "text": [
      "3\n"
     ]
    }
   ],
   "source": [
    "def mean(x):\n",
    "    res = [x for x in str(x)]\n",
    "    res1 = 0\n",
    "    for i in res:\n",
    "        i = int(i)\n",
    "        res1 += i\n",
    "    res1 = int(res1/len(res))\n",
    "    \n",
    "    print(res1)\n",
    "    \n",
    "mean(12345)"
   ]
  },
  {
   "cell_type": "code",
   "execution_count": null,
   "id": "violent-search",
   "metadata": {},
   "outputs": [],
   "source": []
  }
 ],
 "metadata": {
  "kernelspec": {
   "display_name": "Python 3",
   "language": "python",
   "name": "python3"
  },
  "language_info": {
   "codemirror_mode": {
    "name": "ipython",
    "version": 3
   },
   "file_extension": ".py",
   "mimetype": "text/x-python",
   "name": "python",
   "nbconvert_exporter": "python",
   "pygments_lexer": "ipython3",
   "version": "3.7.6"
  }
 },
 "nbformat": 4,
 "nbformat_minor": 5
}
