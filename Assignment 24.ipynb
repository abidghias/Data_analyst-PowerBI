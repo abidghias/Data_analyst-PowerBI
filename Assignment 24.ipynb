{
 "cells": [
  {
   "cell_type": "code",
   "execution_count": 24,
   "id": "herbal-london",
   "metadata": {},
   "outputs": [
    {
     "name": "stdout",
     "output_type": "stream",
     "text": [
      "[0, 1, 2, 3, 40, 5, 6, 7, 80, 9, 10, 11, 120, 13, 14, 15, 160, 17, 18, 19, 200, 21, 22, 23, 240, 25]\n"
     ]
    }
   ],
   "source": [
    "def amplify(x):\n",
    "    #l = [i*10 for i in range(1,x+1) if i % 4 ==0  ]\n",
    "    l1 = []\n",
    "    for i in range(x+1):\n",
    "        if i % 4 == 0:\n",
    "            i = i*10\n",
    "        l1.append(i) \n",
    "    print(l1)\n",
    "        \n",
    "amplify(25)"
   ]
  },
  {
   "cell_type": "code",
   "execution_count": 79,
   "id": "aboriginal-tournament",
   "metadata": {},
   "outputs": [
    {
     "data": {
      "text/plain": [
       "7"
      ]
     },
     "execution_count": 79,
     "metadata": {},
     "output_type": "execute_result"
    }
   ],
   "source": [
    "def unique(arr):\n",
    "    n = len(arr)\n",
    "  \n",
    "    for i in range(n):\n",
    "        j = 0\n",
    "        while(j < n):\n",
    "            if (i !=j and arr[i] == arr[j]):\n",
    "                break\n",
    "            j += 1\n",
    "        if (j == n):\n",
    "            return arr[i]\n",
    "      \n",
    "    return -1\n",
    "\n",
    "unique([3, 3, 3, 7, 3, 3])\n",
    "\n",
    "  "
   ]
  },
  {
   "cell_type": "code",
   "execution_count": 45,
   "id": "separate-cover",
   "metadata": {},
   "outputs": [
    {
     "name": "stdout",
     "output_type": "stream",
     "text": [
      "380.13\n",
      "27.9\n"
     ]
    }
   ],
   "source": [
    "import math\n",
    "class Circle():\n",
    "    def __init__(self,radius):\n",
    "        self.radius = radius\n",
    "    \n",
    "    def getArea(self):\n",
    "        area = self.radius * math.pi * self.radius\n",
    "        return round(area,2)\n",
    "    \n",
    "    def getPerimeter(self):\n",
    "        perimeter = self.radius * 2 * math.pi\n",
    "        return round(perimeter,2)\n",
    "\n",
    "circle = Circle(11)\n",
    "print(circle.getArea())\n",
    "\n",
    "circle1 = Circle(4.44)\n",
    "print(circle1.getPerimeter())\n"
   ]
  },
  {
   "cell_type": "code",
   "execution_count": 66,
   "id": "republican-watershed",
   "metadata": {},
   "outputs": [
    {
     "data": {
      "text/plain": [
       "['Jung', 'Turing', 'Einstein']"
      ]
     },
     "execution_count": 66,
     "metadata": {},
     "output_type": "execute_result"
    }
   ],
   "source": [
    "def sort_by_length(x):\n",
    "    return sorted(x,key=len)\n",
    "    \n",
    "\n",
    "sort_by_length([\"Turing\", \"Einstein\", \"Jung\"])"
   ]
  },
  {
   "cell_type": "code",
   "execution_count": 77,
   "id": "falling-coordinator",
   "metadata": {},
   "outputs": [
    {
     "data": {
      "text/plain": [
       "False"
      ]
     },
     "execution_count": 77,
     "metadata": {},
     "output_type": "execute_result"
    }
   ],
   "source": [
    "def is_triplet(x,y,z):\n",
    "    initial = list(sorted([x,y,z]))\n",
    "    len1 = 0\n",
    "    len2 = len(initial)\n",
    "    while len1 < len2:\n",
    "        if initial[len1]**2 + initial[len1+1]**2 == initial[len1+2]**2:\n",
    "            return True\n",
    "        return False\n",
    "    \n",
    "is_triplet(13,15,12)"
   ]
  },
  {
   "cell_type": "code",
   "execution_count": null,
   "id": "wrong-processor",
   "metadata": {},
   "outputs": [],
   "source": []
  }
 ],
 "metadata": {
  "kernelspec": {
   "display_name": "Python 3",
   "language": "python",
   "name": "python3"
  },
  "language_info": {
   "codemirror_mode": {
    "name": "ipython",
    "version": 3
   },
   "file_extension": ".py",
   "mimetype": "text/x-python",
   "name": "python",
   "nbconvert_exporter": "python",
   "pygments_lexer": "ipython3",
   "version": "3.7.6"
  }
 },
 "nbformat": 4,
 "nbformat_minor": 5
}
