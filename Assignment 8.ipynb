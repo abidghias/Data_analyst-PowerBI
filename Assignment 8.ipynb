{
 "cells": [
  {
   "cell_type": "code",
   "execution_count": 2,
   "id": "placed-catch",
   "metadata": {},
   "outputs": [
    {
     "name": "stdout",
     "output_type": "stream",
     "text": [
      "[10, 10, 10]\n",
      "[10, 10, 10]\n",
      "[10, 10, 10]\n"
     ]
    }
   ],
   "source": [
    "#list comprehension\n",
    "X = [[1,2,3],\n",
    "    [4,5,6],\n",
    "    [7,8,9]]\n",
    "  \n",
    "Y = [[9,8,7],\n",
    "    [6,5,4],\n",
    "    [3,2,1]]\n",
    "#j takes on each row whle i takes on each column with X[0]\n",
    "result = [[X[i][j] + Y[i][j]  for j in range\n",
    "(len(X[0]))] for i in range(len(X))]\n",
    "  \n",
    "for r in result:\n",
    "    print(r)"
   ]
  },
  {
   "cell_type": "code",
   "execution_count": 3,
   "id": "genuine-winter",
   "metadata": {},
   "outputs": [
    {
     "name": "stdout",
     "output_type": "stream",
     "text": [
      "[9, 16, 21]\n",
      "[24, 25, 24]\n",
      "[21, 16, 9]\n"
     ]
    }
   ],
   "source": [
    "X = [[1,2,3],\n",
    "    [4,5,6],\n",
    "    [7,8,9]]\n",
    "  \n",
    "Y = [[9,8,7],\n",
    "    [6,5,4],\n",
    "    [3,2,1]]\n",
    "#j takes on each row whle i takes on each column with X[0]\n",
    "result = [[X[i][j] * Y[i][j]  for j in range\n",
    "(len(X[0]))] for i in range(len(X))]\n",
    "  \n",
    "for r in result:\n",
    "    print(r)"
   ]
  },
  {
   "cell_type": "code",
   "execution_count": 6,
   "id": "bulgarian-convertible",
   "metadata": {},
   "outputs": [
    {
     "name": "stdout",
     "output_type": "stream",
     "text": [
      "[1, 2]\n",
      "[3, 4]\n",
      "[5, 6]\n",
      "\n",
      "\n",
      "[1, 3, 5]\n",
      "[2, 4, 6]\n"
     ]
    }
   ],
   "source": [
    "m = [[1,2],[3,4],[5,6]] \n",
    "for row in m : \n",
    "    print(row) \n",
    "    #instead of using m[i][j] we r using it the other way round to flip rows\n",
    "    #for columns\n",
    "rez = [[m[j][i] for j in range(len(m))] for i in range(len(m[0]))] \n",
    "print(\"\\n\") \n",
    "for row in rez: \n",
    "    print(row) "
   ]
  },
  {
   "cell_type": "code",
   "execution_count": 9,
   "id": "criminal-hawaii",
   "metadata": {},
   "outputs": [
    {
     "data": {
      "text/plain": [
       "['an', 'cased', 'example', 'hello', 'is', 'letters', 'this', 'with']"
      ]
     },
     "execution_count": 9,
     "metadata": {},
     "output_type": "execute_result"
    }
   ],
   "source": [
    "my_str = \"Hello this Is an Example With cased letters\"\n",
    "#convert to small so that ascii numbers can be compared properly\n",
    "words = [word.lower() for word in my_str.split()]\n",
    "#call the sort function\n",
    "words.sort()\n",
    "words"
   ]
  },
  {
   "cell_type": "code",
   "execution_count": 12,
   "id": "killing-allocation",
   "metadata": {},
   "outputs": [
    {
     "name": "stdout",
     "output_type": "stream",
     "text": [
      "asdsdvssds\n"
     ]
    }
   ],
   "source": [
    "test_str = \"asd ; sdvs , sds *&^% ;\"\n",
    "  \n",
    "punc = '''!()-[]{};:'\"\\, <>./?@#$%^&*_~'''\n",
    "  \n",
    "\n",
    "for ele in test_str:  \n",
    "    if ele in punc:  \n",
    "        test_str = test_str.replace(ele, \"\")  \n",
    "  \n",
    "  \n",
    "print(test_str) "
   ]
  },
  {
   "cell_type": "code",
   "execution_count": null,
   "id": "great-spelling",
   "metadata": {},
   "outputs": [],
   "source": []
  }
 ],
 "metadata": {
  "kernelspec": {
   "display_name": "Python 3",
   "language": "python",
   "name": "python3"
  },
  "language_info": {
   "codemirror_mode": {
    "name": "ipython",
    "version": 3
   },
   "file_extension": ".py",
   "mimetype": "text/x-python",
   "name": "python",
   "nbconvert_exporter": "python",
   "pygments_lexer": "ipython3",
   "version": "3.7.6"
  }
 },
 "nbformat": 4,
 "nbformat_minor": 5
}
