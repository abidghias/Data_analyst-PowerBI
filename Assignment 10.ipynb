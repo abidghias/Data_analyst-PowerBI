{
 "cells": [
  {
   "cell_type": "code",
   "execution_count": 78,
   "id": "objective-estimate",
   "metadata": {},
   "outputs": [
    {
     "name": "stdout",
     "output_type": "stream",
     "text": [
      "10\n"
     ]
    }
   ],
   "source": [
    "abid = [1,2,3,4]\n",
    "sum = 0\n",
    "for i in abid:\n",
    "    sum =sum + i\n",
    "print(sum)"
   ]
  },
  {
   "cell_type": "code",
   "execution_count": 9,
   "id": "improving-alert",
   "metadata": {},
   "outputs": [
    {
     "name": "stdout",
     "output_type": "stream",
     "text": [
      "144\n"
     ]
    }
   ],
   "source": [
    "l = [1,2,3,4,6]\n",
    "mul = 1\n",
    "for i in range(len(l)):\n",
    "    mul *= l[i]\n",
    "print(mul)"
   ]
  },
  {
   "cell_type": "code",
   "execution_count": 22,
   "id": "julian-compression",
   "metadata": {},
   "outputs": [
    {
     "name": "stdout",
     "output_type": "stream",
     "text": [
      "2\n"
     ]
    }
   ],
   "source": [
    "l = [2,3,4,5]\n",
    "small = 90\n",
    "for i in range(len(l)):\n",
    "    if l[i] <= small:\n",
    "        small = l[i]\n",
    "\n",
    "print(small)"
   ]
  },
  {
   "cell_type": "code",
   "execution_count": 26,
   "id": "broke-laugh",
   "metadata": {},
   "outputs": [
    {
     "name": "stdout",
     "output_type": "stream",
     "text": [
      "5\n"
     ]
    }
   ],
   "source": [
    "l = [2,3,4,5]\n",
    "\n",
    "print(max(l))\n",
    "   \n"
   ]
  },
  {
   "cell_type": "code",
   "execution_count": 35,
   "id": "classical-pennsylvania",
   "metadata": {},
   "outputs": [
    {
     "name": "stdout",
     "output_type": "stream",
     "text": [
      "2\n"
     ]
    }
   ],
   "source": [
    "l = [1,2,3,4,56565,5]\n",
    "l1 = sorted(l,reverse = True)\n",
    "print(l1[-2])"
   ]
  },
  {
   "cell_type": "code",
   "execution_count": 41,
   "id": "collaborative-allah",
   "metadata": {},
   "outputs": [
    {
     "name": "stdout",
     "output_type": "stream",
     "text": [
      "Enter how many largest elements u need 2\n",
      "[9, 56]\n"
     ]
    }
   ],
   "source": [
    "l = int(input('Enter how many largest elements u need '))\n",
    "l1 = [1,2,3,9,56,4,5,6,7]\n",
    "\n",
    "l2 = sorted(l1)\n",
    "\n",
    "print(l2[-l:])"
   ]
  },
  {
   "cell_type": "code",
   "execution_count": 53,
   "id": "regulation-litigation",
   "metadata": {},
   "outputs": [
    {
     "data": {
      "text/plain": [
       "[2, 6, 8]"
      ]
     },
     "execution_count": 53,
     "metadata": {},
     "output_type": "execute_result"
    }
   ],
   "source": [
    "l1 = [1,2,6,8,7]\n",
    "l = []\n",
    "for i in l1:\n",
    "    if i%2 == 0:\n",
    "        l.append(i)\n",
    "l     "
   ]
  },
  {
   "cell_type": "code",
   "execution_count": 54,
   "id": "infinite-stockholm",
   "metadata": {},
   "outputs": [
    {
     "data": {
      "text/plain": [
       "[1, 7]"
      ]
     },
     "execution_count": 54,
     "metadata": {},
     "output_type": "execute_result"
    }
   ],
   "source": [
    "l1 = [1,2,6,8,7]\n",
    "l = []\n",
    "for i in l1:\n",
    "    if i%2 != 0:\n",
    "        l.append(i)\n",
    "l     "
   ]
  },
  {
   "cell_type": "code",
   "execution_count": 56,
   "id": "corporate-attack",
   "metadata": {},
   "outputs": [
    {
     "data": {
      "text/plain": [
       "[[1, 2, 3], [4, 5, 6]]"
      ]
     },
     "execution_count": 56,
     "metadata": {},
     "output_type": "execute_result"
    }
   ],
   "source": [
    "l = [[1,2,3],[4,5,6],[]]\n",
    "for i in l:\n",
    "    if type(i) == list:\n",
    "        if len(i) == 0:\n",
    "            l.remove(i)\n",
    "l"
   ]
  },
  {
   "cell_type": "code",
   "execution_count": 69,
   "id": "protecting-showcase",
   "metadata": {},
   "outputs": [],
   "source": [
    "a = [1,2,3,4]\n",
    "import copy"
   ]
  },
  {
   "cell_type": "code",
   "execution_count": 70,
   "id": "mechanical-herald",
   "metadata": {},
   "outputs": [],
   "source": [
    "x = copy.copy(a)"
   ]
  },
  {
   "cell_type": "code",
   "execution_count": 71,
   "id": "written-motorcycle",
   "metadata": {},
   "outputs": [
    {
     "data": {
      "text/plain": [
       "[1, 2, 3, 4]"
      ]
     },
     "execution_count": 71,
     "metadata": {},
     "output_type": "execute_result"
    }
   ],
   "source": [
    "x"
   ]
  },
  {
   "cell_type": "code",
   "execution_count": 77,
   "id": "paperback-testament",
   "metadata": {},
   "outputs": [
    {
     "name": "stdout",
     "output_type": "stream",
     "text": [
      "7\n"
     ]
    }
   ],
   "source": [
    "a= [1,2,3,4,5,5,6,3,5,5,1,5,5,2]\n",
    "count = 0\n",
    "for i in a:\n",
    "    if a[i] == 5:\n",
    "        count += 1\n",
    "    \n",
    "print(count)"
   ]
  },
  {
   "cell_type": "code",
   "execution_count": null,
   "id": "outstanding-gender",
   "metadata": {},
   "outputs": [],
   "source": []
  },
  {
   "cell_type": "code",
   "execution_count": null,
   "id": "covered-retreat",
   "metadata": {},
   "outputs": [],
   "source": []
  }
 ],
 "metadata": {
  "kernelspec": {
   "display_name": "Python 3",
   "language": "python",
   "name": "python3"
  },
  "language_info": {
   "codemirror_mode": {
    "name": "ipython",
    "version": 3
   },
   "file_extension": ".py",
   "mimetype": "text/x-python",
   "name": "python",
   "nbconvert_exporter": "python",
   "pygments_lexer": "ipython3",
   "version": "3.7.6"
  }
 },
 "nbformat": 4,
 "nbformat_minor": 5
}
