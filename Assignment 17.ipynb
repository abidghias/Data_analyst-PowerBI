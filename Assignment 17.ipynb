{
 "cells": [
  {
   "cell_type": "code",
   "execution_count": 12,
   "id": "qualified-genetics",
   "metadata": {},
   "outputs": [
    {
     "data": {
      "text/plain": [
       "30"
      ]
     },
     "execution_count": 12,
     "metadata": {},
     "output_type": "execute_result"
    }
   ],
   "source": [
    "def evenly_divisible(a,b,c):\n",
    "    sum = 0\n",
    "    for i in range(a,b+1):\n",
    "        if i % c == 0:\n",
    "            sum += i\n",
    "    return sum\n",
    "            \n",
    "        \n",
    "        \n",
    "        \n",
    "evenly_divisible(1,10,2)    "
   ]
  },
  {
   "cell_type": "code",
   "execution_count": 13,
   "id": "rural-designation",
   "metadata": {},
   "outputs": [
    {
     "data": {
      "text/plain": [
       "True"
      ]
     },
     "execution_count": 13,
     "metadata": {},
     "output_type": "execute_result"
    }
   ],
   "source": [
    "def correct_signs(x):\n",
    "    y = (x.split())\n",
    "    y1 = len(y)\n",
    "    y2 = 0\n",
    "    while y2 < y1:\n",
    "        if y[y2] == '<':\n",
    "            if not y[y2-1] < y[y2+1]:\n",
    "                 return False\n",
    "\n",
    "        if y[y2] == '>':\n",
    "            if not y[y2-1] > y[y2+1]:\n",
    "                return False\n",
    "                \n",
    "        y2 += 1\n",
    "    return True\n",
    "        \n",
    "       \n",
    "    \n",
    "    \n",
    "    \n",
    "    \n",
    "    \n",
    "correct_signs(\"13 < 44 > 33 > 1\")"
   ]
  },
  {
   "cell_type": "code",
   "execution_count": 14,
   "id": "closing-minority",
   "metadata": {},
   "outputs": [
    {
     "data": {
      "text/plain": [
       "1"
      ]
     },
     "execution_count": 14,
     "metadata": {},
     "output_type": "execute_result"
    }
   ],
   "source": [
    "def factorial(x):\n",
    "    if x == 0 | x == 1:\n",
    "        return 1\n",
    "    else:\n",
    "        return x * factorial(x-1)\n",
    "factorial(1)"
   ]
  },
  {
   "cell_type": "code",
   "execution_count": 15,
   "id": "compliant-norway",
   "metadata": {},
   "outputs": [
    {
     "name": "stdout",
     "output_type": "stream",
     "text": [
      "#bcd#fg\n"
     ]
    }
   ],
   "source": [
    "def replace_vowels(x,y):\n",
    "    vowels = 'aeiouAEIOU'\n",
    "    for i in vowels:\n",
    "        x = x.replace(i,y)\n",
    "    print(x)\n",
    "    \n",
    "    \n",
    "replace_vowels(\"abcdefg\",\"#\")"
   ]
  },
  {
   "cell_type": "code",
   "execution_count": 16,
   "id": "stone-device",
   "metadata": {},
   "outputs": [
    {
     "data": {
      "text/plain": [
       "7"
      ]
     },
     "execution_count": 16,
     "metadata": {},
     "output_type": "execute_result"
    }
   ],
   "source": [
    "def hamming_distance(x,y):\n",
    "    x1 = list(x)\n",
    "    y1 = list(y)\n",
    "    len1 = len(x)\n",
    "    x2 = 0\n",
    "    sum1 = 0\n",
    "    while x2 < len1:\n",
    "        \n",
    "        if x1[x2] != y1[x2]:\n",
    "            \n",
    "            sum1 += 1 \n",
    "            \n",
    "        x2 += 1\n",
    "    return sum1\n",
    "hamming_distance('abcdefg','tyuiopk')"
   ]
  },
  {
   "cell_type": "code",
   "execution_count": null,
   "id": "spare-doubt",
   "metadata": {},
   "outputs": [],
   "source": []
  }
 ],
 "metadata": {
  "kernelspec": {
   "display_name": "Python 3",
   "language": "python",
   "name": "python3"
  },
  "language_info": {
   "codemirror_mode": {
    "name": "ipython",
    "version": 3
   },
   "file_extension": ".py",
   "mimetype": "text/x-python",
   "name": "python",
   "nbconvert_exporter": "python",
   "pygments_lexer": "ipython3",
   "version": "3.7.6"
  }
 },
 "nbformat": 4,
 "nbformat_minor": 5
}
