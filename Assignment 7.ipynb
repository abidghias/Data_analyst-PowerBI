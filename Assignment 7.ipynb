{
 "cells": [
  {
   "cell_type": "code",
   "execution_count": 4,
   "id": "appointed-marathon",
   "metadata": {},
   "outputs": [
    {
     "name": "stdout",
     "output_type": "stream",
     "text": [
      "15\n"
     ]
    }
   ],
   "source": [
    "n = [1,2,3,4,5]\n",
    "sum = 0\n",
    "for i in n:\n",
    "    sum += i\n",
    "print(sum)\n",
    "\n",
    "\n",
    "    "
   ]
  },
  {
   "cell_type": "code",
   "execution_count": 10,
   "id": "entertaining-netscape",
   "metadata": {},
   "outputs": [
    {
     "name": "stdout",
     "output_type": "stream",
     "text": [
      "52\n"
     ]
    }
   ],
   "source": [
    "n = [1,2,3,4,50,52,51]\n",
    "largest = 0\n",
    "for i in (n):\n",
    "    if i > largest:\n",
    "        largest = i\n",
    "print(largest)"
   ]
  },
  {
   "cell_type": "code",
   "execution_count": 13,
   "id": "sought-protest",
   "metadata": {},
   "outputs": [
    {
     "name": "stdout",
     "output_type": "stream",
     "text": [
      "[1, 2, 3, 4, 5, 6]\n",
      "Rotated list is\n",
      "[4, 5, 6, 1, 2, 3]\n"
     ]
    }
   ],
   "source": [
    "def rotateList(arr,d,n):\n",
    "    arr[:]=arr[d:n]+arr[0:d]\n",
    "    return arr\n",
    "# Driver function to test above function \n",
    "arr = [1, 2, 3, 4, 5, 6] \n",
    "print(arr) \n",
    "print(\"Rotated list is\") \n",
    "print(rotateList(arr,3,len(arr)))  "
   ]
  },
  {
   "cell_type": "code",
   "execution_count": 14,
   "id": "veterinary-child",
   "metadata": {},
   "outputs": [
    {
     "name": "stdout",
     "output_type": "stream",
     "text": [
      "[1, 2, 3, 4, 5, 6]\n",
      "Rotated list is\n",
      "[3, 4, 5, 6, 1, 2]\n"
     ]
    }
   ],
   "source": [
    "def splitList(arr,d,n):\n",
    "    arr[:]=arr[d:n]+arr[0:d]\n",
    "    return arr\n",
    "# Driver function to test above function \n",
    "arr = [1, 2, 3, 4, 5, 6] \n",
    "print(arr) \n",
    "print(\"Rotated list is\") \n",
    "print(splitList(arr,2,len(arr)))  "
   ]
  },
  {
   "cell_type": "code",
   "execution_count": 15,
   "id": "respiratory-exclusive",
   "metadata": {},
   "outputs": [
    {
     "name": "stdout",
     "output_type": "stream",
     "text": [
      "True\n"
     ]
    }
   ],
   "source": [
    "def monotonic(a):\n",
    "    n = len(a)\n",
    "    #all returns true only if all the conditions are satisfied\n",
    "    #we r using comprehension method where we r declaring a for loop from the \n",
    "    #the start of the list till end and comparing each element if it is in increasing\n",
    "    #or decreasing order\n",
    "    return (all(a[i]<=a[i+1] for i in range(n-1)) or\n",
    "            all(a[i]>=a[i+1] for i in range(n-1)))\n",
    "a = [6, 5, 4, 3, 2]\n",
    "print(monotonic(a))"
   ]
  },
  {
   "cell_type": "code",
   "execution_count": null,
   "id": "ecological-mustang",
   "metadata": {},
   "outputs": [],
   "source": []
  }
 ],
 "metadata": {
  "kernelspec": {
   "display_name": "Python 3",
   "language": "python",
   "name": "python3"
  },
  "language_info": {
   "codemirror_mode": {
    "name": "ipython",
    "version": 3
   },
   "file_extension": ".py",
   "mimetype": "text/x-python",
   "name": "python",
   "nbconvert_exporter": "python",
   "pygments_lexer": "ipython3",
   "version": "3.7.6"
  }
 },
 "nbformat": 4,
 "nbformat_minor": 5
}
