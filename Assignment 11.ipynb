{
 "cells": [
  {
   "cell_type": "code",
   "execution_count": 21,
   "id": "hydraulic-windsor",
   "metadata": {},
   "outputs": [
    {
     "name": "stdout",
     "output_type": "stream",
     "text": [
      "enter the desired max length3\n"
     ]
    },
    {
     "data": {
      "text/plain": [
       "['name', 'abid', 'ghias', 'this', 'test', 'sentence']"
      ]
     },
     "execution_count": 21,
     "metadata": {},
     "output_type": "execute_result"
    }
   ],
   "source": [
    "a = 'my name is abid ghias and this is a test sentence'\n",
    "x = int(input('enter the desired max length'))\n",
    "l = []\n",
    "a1 = a.split(\" \")\n",
    "for i in a1:\n",
    "    if x < len(i):\n",
    "        l.append(i)\n",
    "l\n"
   ]
  },
  {
   "cell_type": "code",
   "execution_count": 64,
   "id": "handed-implement",
   "metadata": {},
   "outputs": [
    {
     "name": "stdout",
     "output_type": "stream",
     "text": [
      "enter the desired character to be removed2\n"
     ]
    },
    {
     "data": {
      "text/plain": [
       "'myname is abid ghias and this is a test sentence'"
      ]
     },
     "execution_count": 64,
     "metadata": {},
     "output_type": "execute_result"
    }
   ],
   "source": [
    "a = 'my name is abid ghias and this is a test sentence'\n",
    "x = int(input('enter the desired character to be removed'))\n",
    "\n",
    "new_str = ''\n",
    "for i in range(len(a)): \n",
    "    if i!=x:\n",
    "        new_str = new_str + a[i]\n",
    "new_str"
   ]
  },
  {
   "cell_type": "code",
   "execution_count": 49,
   "id": "surrounded-brain",
   "metadata": {},
   "outputs": [
    {
     "data": {
      "text/plain": [
       "['my',\n",
       " 'name',\n",
       " 'is',\n",
       " 'abid',\n",
       " 'ghias',\n",
       " 'and',\n",
       " 'this',\n",
       " 'is',\n",
       " 'a',\n",
       " 'test',\n",
       " 'sentence']"
      ]
     },
     "execution_count": 49,
     "metadata": {},
     "output_type": "execute_result"
    }
   ],
   "source": [
    "a1 = a.split(\" \")\n",
    "a1"
   ]
  },
  {
   "cell_type": "code",
   "execution_count": 50,
   "id": "multiple-conviction",
   "metadata": {},
   "outputs": [],
   "source": [
    "a2 = []\n"
   ]
  },
  {
   "cell_type": "code",
   "execution_count": 75,
   "id": "accessory-ordinance",
   "metadata": {},
   "outputs": [
    {
     "data": {
      "text/plain": [
       "'m y   n a m e   i s   a b i d   g h i a s   a n d   t h i s   i s   a   t e s t   s e n t e n c e'"
      ]
     },
     "execution_count": 75,
     "metadata": {},
     "output_type": "execute_result"
    }
   ],
   "source": [
    "(\" \").join(a)\n"
   ]
  },
  {
   "cell_type": "code",
   "execution_count": 84,
   "id": "vocal-storage",
   "metadata": {},
   "outputs": [
    {
     "name": "stdout",
     "output_type": "stream",
     "text": [
      "Yes\n"
     ]
    }
   ],
   "source": [
    "# Python program to check\n",
    "# if a string is binary or not\n",
    "  \n",
    "# function for checking the\n",
    "# string is accepted or not\n",
    "def check2(string) :\n",
    "  \n",
    "    # initialize the variable t\n",
    "    # with '01' string\n",
    "    t = '01'\n",
    "  \n",
    "    # initialize the variable count\n",
    "    # with 0 value\n",
    "    count = 0\n",
    "\n",
    "    for char in string :\n",
    "  \n",
    "\n",
    "        if char not in t :\n",
    "            count = 1\n",
    "            break\n",
    "        else :\n",
    "            pass\n",
    "\n",
    "    if count :\n",
    "        print(\"No\")\n",
    "    else :\n",
    "        print(\"Yes\")\n",
    "  \n",
    "check2('0101010011001')  \n"
   ]
  },
  {
   "cell_type": "code",
   "execution_count": 132,
   "id": "liable-saying",
   "metadata": {},
   "outputs": [
    {
     "name": "stdout",
     "output_type": "stream",
     "text": [
      " apple fruits\n"
     ]
    }
   ],
   "source": [
    "a = \"apple banana mango\"\n",
    "b = \"banana fruits mango\"\n",
    "print(uncommon(a,b))\n",
    "\n",
    "def uncommon(a,b):\n",
    "    a1 = a.split()\n",
    "    b1 = b.split()\n",
    "    uc= ''\n",
    "    for i in a1: \n",
    "        if i not in b1: \n",
    "            uc = uc+\" \"+i \n",
    "    for j in b1:\n",
    "        if j not in a1: \n",
    "            uc = uc+\" \"+j \n",
    "    return uc\n"
   ]
  },
  {
   "cell_type": "code",
   "execution_count": 131,
   "id": "dying-april",
   "metadata": {},
   "outputs": [
    {
     "name": "stdout",
     "output_type": "stream",
     "text": [
      "['hi', 'my']\n"
     ]
    }
   ],
   "source": [
    "def duplicate(a):\n",
    "    a1 = a.split()\n",
    "    l = []\n",
    "    for i in a1:\n",
    "        if i not in l:\n",
    "            l.append(i)\n",
    "            \n",
    "    return l\n",
    "a = 'hi hi hi hi my my '\n",
    "print(duplicate(a))"
   ]
  },
  {
   "cell_type": "code",
   "execution_count": 135,
   "id": "unique-driver",
   "metadata": {
    "scrolled": false
   },
   "outputs": [
    {
     "name": "stdout",
     "output_type": "stream",
     "text": [
      "$tackoverflow\n",
      "yes\n"
     ]
    }
   ],
   "source": [
    "x = \"!@#$%^&*()-+?_=,<>/\"\n",
    "s=input()\n",
    "# Example: $tackoverflow\n",
    "\n",
    "#any checks if any iterable is true or not\n",
    "if any(c in x for c in s):\n",
    "    print(\"yes\")\n",
    "else:\n",
    "    print(\"no\")"
   ]
  },
  {
   "cell_type": "code",
   "execution_count": null,
   "id": "billion-michigan",
   "metadata": {},
   "outputs": [],
   "source": []
  }
 ],
 "metadata": {
  "kernelspec": {
   "display_name": "Python 3",
   "language": "python",
   "name": "python3"
  },
  "language_info": {
   "codemirror_mode": {
    "name": "ipython",
    "version": 3
   },
   "file_extension": ".py",
   "mimetype": "text/x-python",
   "name": "python",
   "nbconvert_exporter": "python",
   "pygments_lexer": "ipython3",
   "version": "3.7.6"
  }
 },
 "nbformat": 4,
 "nbformat_minor": 5
}
